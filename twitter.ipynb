{
 "cells": [
  {
   "cell_type": "markdown",
   "metadata": {
    "slideshow": {
     "slide_type": "slide"
    }
   },
   "source": [
    "# Analysing twitter archives"
   ]
  },
  {
   "cell_type": "code",
   "execution_count": 1,
   "metadata": {
    "slideshow": {
     "slide_type": "fragment"
    }
   },
   "outputs": [],
   "source": [
    "# Customise these variables for your own setup!\n",
    "TWEETS_PATH = \"archive_dir/twitter-archive-20180528/tweets.csv\"\n",
    "TWEETS_USERNAME = \"@caitelatte\"\n",
    "VERBOSE_RESULTS = True"
   ]
  },
  {
   "cell_type": "markdown",
   "metadata": {
    "slideshow": {
     "slide_type": "slide"
    }
   },
   "source": [
    "## Setup: Read `tweets.csv`\n",
    "\n",
    "**Goal:** read the contents of the `tweets.csv` file into a list called `tweets`.\n",
    "\n",
    "### Notes\n",
    "\n",
    "-   I learnt that the `csv` module has a tool `DictReader` to read a CSV file as a dictionary, and pull out the field names from the first row. Each tweet is represented as an `OrderedDict`, which looks a lot like a list of tuples of field name and contents. This should be real nice to use!\n",
    "-   While working on optimising the first example I found a nice way to handle dates with the `matplotlib.dates` module."
   ]
  },
  {
   "cell_type": "code",
   "execution_count": 2,
   "metadata": {
    "slideshow": {
     "slide_type": "fragment"
    }
   },
   "outputs": [
    {
     "name": "stdout",
     "output_type": "stream",
     "text": [
      "I found 4664 tweets!\n",
      "Each tweet will have the following fields: ['tweet_id', 'in_reply_to_status_id', 'in_reply_to_user_id', 'timestamp', 'source', 'text', 'retweeted_status_id', 'retweeted_status_user_id', 'retweeted_status_timestamp', 'expanded_urls']\n",
      "The first tweet in this list looks like:\n",
      "OrderedDict([('tweet_id', '1.00065E+18'),\n",
      "             ('in_reply_to_status_id', '1.00062E+18'),\n",
      "             ('in_reply_to_user_id', '6603532'),\n",
      "             ('timestamp', '2018-05-27 07:50:33 +0000'),\n",
      "             ('source',\n",
      "              '<a href=\"http://twitter.com/download/android\" '\n",
      "              'rel=\"nofollow\">Twitter for Android</a>'),\n",
      "             ('text',\n",
      "              '@b0rk My favourite tip is that you can replace the '\n",
      "              \"'/' with an arbitrary special character (I often use \"\n",
      "              \"#, there are a few you can't use) in sed commands so \"\n",
      "              \"you don't have to escape / in path names :)\"),\n",
      "             ('retweeted_status_id', ''),\n",
      "             ('retweeted_status_user_id', ''),\n",
      "             ('retweeted_status_timestamp', ''),\n",
      "             ('expanded_urls', '')])\n"
     ]
    }
   ],
   "source": [
    "import csv\n",
    "import pprint\n",
    "\n",
    "# load tweets from csv\n",
    "tweets = []\n",
    "with open(TWEETS_PATH) as tweetsfile:\n",
    "    tweetsReader = csv.DictReader(tweetsfile)\n",
    "    fields = tweetsReader.fieldnames\n",
    "    for tweet in tweetsReader:\n",
    "        tweets.append(tweet)\n",
    "\n",
    "if VERBOSE_RESULTS:\n",
    "    print(\"I found {0} tweets!\".format(len(tweets)))\n",
    "    print(\"Each tweet will have the following fields: {fields}\".format(\n",
    "        fields=fields\n",
    "    ))\n",
    "    print(\"The first tweet in this list looks like:\")\n",
    "    pprint.pprint(tweets[0], width=70)"
   ]
  },
  {
   "cell_type": "code",
   "execution_count": 3,
   "metadata": {
    "slideshow": {
     "slide_type": "fragment"
    }
   },
   "outputs": [],
   "source": [
    "import matplotlib.dates as mdates\n",
    "import datetime\n",
    "\n",
    "def tweet_time_mdate(tweet_ts):\n",
    "    \"\"\"Return an mdate format of the timestamp in a tweet!\n",
    "    \n",
    "    Expects `tweet_ts` to be in format %Y-%m-%d %H:%M:%S %z.\n",
    "    \"\"\"\n",
    "    tweet_dt = datetime.datetime.strptime(tweet[\"timestamp\"], \"%Y-%m-%d %H:%M:%S %z\")\n",
    "    return mdates.date2num(tweet_dt)"
   ]
  },
  {
   "cell_type": "markdown",
   "metadata": {
    "slideshow": {
     "slide_type": "slide"
    }
   },
   "source": [
    "## Output 1: Basic tweet frequency\n",
    "\n",
    "**Goal:** a frequency histogram with the number of tweets per a given time period.\n",
    "\n",
    "### Notes:\n",
    "\n",
    "-   `datetime.datetime.strptime` is a function to parse a formatted string and return a `datetime.datetime` object. For documentation on how to format the format string, the best place to look is `help(time.strptime)`.\n",
    "-   I was originally going to write a list comprehension to enumerate each week between the first and last tweets available, but found out that `pandas` just *does this* with `pandas.date_range`. Amazing!\n",
    "-   After all that, it turns out I didn't need a date-range anyway, as matplotlib.pyplot actually has a `hist` function which auto-computes \"bins\" by itself.\n",
    "-   Dealing with all these tweets takes time if they're in `datetime.datetime` format... `matplotlib.dates` is a solution! I made a function above, `tweet_time_mdate` to take a string formatted like `2018-07-27 08:02:00 +0000` and return a `matplotlib.dates`."
   ]
  },
  {
   "cell_type": "code",
   "execution_count": 4,
   "metadata": {
    "scrolled": true,
    "slideshow": {
     "slide_type": "fragment"
    }
   },
   "outputs": [
    {
     "name": "stdout",
     "output_type": "stream",
     "text": [
      "I have collected 4664 datetimes into `tweet_times`, and the first one looks like (datetime.datetime(2018, 5, 27, 7, 50, 33, tzinfo=datetime.timezone.utc), datetime.date(2018, 5, 27), 736841.3267708333).\n"
     ]
    }
   ],
   "source": [
    "#  Now I want to generate a list of timestamps\n",
    "# (in python datetime.datetime format)\n",
    "import datetime\n",
    "import matplotlib.dates as mdates\n",
    "\n",
    "tweet_times = []\n",
    "tweet_dates = []\n",
    "tweet_mpldates = []\n",
    "for tweet in tweets:\n",
    "    tweet_ts = datetime.datetime.strptime(tweet[\"timestamp\"], \"%Y-%m-%d %H:%M:%S %z\")\n",
    "    tweet_times.append(tweet_ts)\n",
    "    tweet_dates.append(tweet_ts.date())\n",
    "    tweet_mpldates.append(tweet_time_mdate(tweet[\"timestamp\"]))\n",
    "\n",
    "if VERBOSE_RESULTS:\n",
    "    print(\"I have collected {0} datetimes into `tweet_times`, and the first one looks like {1}.\".format(\n",
    "        len(tweet_times), (tweet_times[0], tweet_dates[0], tweet_mpldates[0])))"
   ]
  },
  {
   "cell_type": "code",
   "execution_count": 5,
   "metadata": {
    "slideshow": {
     "slide_type": "slide"
    }
   },
   "outputs": [
    {
     "data": {
      "text/plain": [
       "<Figure size 640x480 with 1 Axes>"
      ]
     },
     "metadata": {},
     "output_type": "display_data"
    }
   ],
   "source": [
    "import datetime\n",
    "import matplotlib.pyplot as plt\n",
    "import matplotlib.dates as mdates\n",
    "\n",
    "\n",
    "# use this section for limiting numbers for performance\n",
    "tweet_mpldates_subset = tweet_mpldates[:500]\n",
    "\n",
    "# # Make a collection of frequency buckets with dates (not necessary due to plt.hist!)\n",
    "# import pandas.date_range\n",
    "# timediff = datetime.timedelta(days=7)\n",
    "# first_time = tweet_times[-1]\n",
    "# last_time = tweet_times[0]\n",
    "# print(first_time, last_time)\n",
    "\n",
    "# # Setting up a structure of date buckets for frequencies to go in\n",
    "# time_buckets = pandas.date_range(start=first_time, end=last_time, freq=timediff)\n",
    "# times_dict = []\n",
    "# for t_bucket in time_buckets:\n",
    "#     times_dict.append((t_bucket, 0))\n",
    "\n",
    "fig, ax = plt.subplots(1, 1)\n",
    "n, bins, patches = ax.hist(tweet_mpldates_subset, bins=24, stacked=True, color='teal')\n",
    "\n",
    "plt.xlabel(\"Dates\")\n",
    "plt.ylabel(\"Tweets\")\n",
    "plt.title(\"Histogram of Tweets by {username}\".format(\n",
    "    username=TWEETS_USERNAME))\n",
    "locator = mdates.AutoDateLocator()\n",
    "ax.xaxis.set_major_locator(locator)\n",
    "ax.xaxis.set_major_formatter(mdates.AutoDateFormatter(locator))\n",
    "\n",
    "plt.show()"
   ]
  },
  {
   "cell_type": "markdown",
   "metadata": {
    "slideshow": {
     "slide_type": "slide"
    }
   },
   "source": [
    "## Output 2: People interactions\n",
    "**Goal:** a representation of all the people I've mentioned over time.\n",
    "\n",
    "1. **Identify data structure goal:** list of tuples of usernames and timestamps\n",
    "2. **Extract the necessary data**:\n",
    "    - `USERNAME_REGEX = r\"(@\\w+)\"` (an @ symbol followed by word only characters)\n",
    "    - made the tweet_time_mdate function to avoid rewriting the same code as in the previous output\n",
    "    - tested with a slice of 100 tweets for speed\n",
    "    - `just_usernames` is a sorted list of all usernames\n",
    "    - `timed_usernames` is a list of tuples `(username, tweet_mdate)`\n",
    "3. **Present the data**"
   ]
  },
  {
   "cell_type": "code",
   "execution_count": 6,
   "metadata": {
    "scrolled": true
   },
   "outputs": [
    {
     "name": "stdout",
     "output_type": "stream",
     "text": [
      "I've sorted 5305 username mentions!\n"
     ]
    }
   ],
   "source": [
    "import re\n",
    "\n",
    "# how can I recognise that a tweet has usernames?\n",
    "USERNAME_REGEX = r\"(@\\w+)\"\n",
    "\n",
    "timed_usernames = []\n",
    "just_usernames = []\n",
    "\n",
    "for tweet in tweets:\n",
    "    tweet_mdate = tweet_time_mdate(tweet.get(\"timestamp\"))\n",
    "    usernames = re.findall(USERNAME_REGEX, tweet.get(\"text\"))\n",
    "    for username in usernames:\n",
    "        timed_usernames.append((username, tweet_mdate))\n",
    "        just_usernames.append(username)\n",
    "        \n",
    "just_usernames = sorted(just_usernames)\n",
    "\n",
    "print(\"I've sorted {count} username mentions!\".format(\n",
    "    count=len(just_usernames)))"
   ]
  },
  {
   "cell_type": "code",
   "execution_count": 7,
   "metadata": {},
   "outputs": [
    {
     "data": {
      "image/png": "[encoded data removed]",
      "text/plain": [
       "<Figure size 432x288 with 1 Axes>"
      ]
     },
     "metadata": {},
     "output_type": "display_data"
    }
   ],
   "source": [
    "import matplotlib.pyplot as plt\n",
    "\n",
    "# use this section for limiting numbers for performance\n",
    "usernames_subset = just_usernames[:100]\n",
    "uniq_usernames = set(usernames_subset)\n",
    "\n",
    "fig, ax = plt.subplots(1, 1)\n",
    "n, bins, patches = ax.hist(usernames_subset, bins=len(uniq_usernames), stacked=True, color='teal')\n",
    "\n",
    "plt.xlabel(\"Usernames\")\n",
    "plt.ylabel(\"Tweets\")\n",
    "plt.title(\"Histogram of tweets mentioning usernames by {username}\".format(\n",
    "    username=TWEETS_USERNAME))\n",
    "# locator = mdates.AutoDateLocator()\n",
    "# ax.xaxis.set_major_locator(locator)\n",
    "# ax.xaxis.set_major_formatter(mdates.AutoDateFormatter(locator))\n",
    "plt.xticks(usernames_subset, label=None, rotation='vertical')\n",
    "plt.axis(\"tight\")\n",
    "\n",
    "plt.show()"
   ]
  },
  {
   "cell_type": "markdown",
   "metadata": {},
   "source": [
    "Ok great! I made a graph, but this isn't very useful... Maybe a table would be better in this case?\n",
    "\n",
    "**New goal:** Display a table of the most frequent mentionees.\n",
    "\n",
    "**New tool:** numpy! specifically  [`numpy.unique`!](https://docs.scipy.org/doc/numpy/reference/generated/numpy.unique.html) - hinted from [Stack Overflow question \"Numpy - Most efficient frequency counts for unique values in an array?](https://stackoverflow.com/questions/10741346/numpy-most-efficient-frequency-counts-for-unique-values-in-an-array)"
   ]
  },
  {
   "cell_type": "code",
   "execution_count": 8,
   "metadata": {},
   "outputs": [
    {
     "name": "stdout",
     "output_type": "stream",
     "text": [
      "The top 10 usernames I've mentioned are:\n",
      " @merxplat: 642\n",
      " @LibideeB: 617\n",
      " @caitelatte: 105\n",
      " @wjoneil: 88\n",
      " @ajdlinux: 85\n",
      " @scumsies: 68\n",
      " @helenperris: 66\n",
      " @clareology: 65\n",
      " @Ducky_Tape: 58\n",
      " @ANU_Events: 56\n",
      "There were 836 usernames I only mentioned once!\n"
     ]
    }
   ],
   "source": [
    "import numpy as np\n",
    "\n",
    "(uniq_usernames, count_usernames) = np.unique(just_usernames, return_counts=True)\n",
    "\n",
    "zipped_usernames_freq = []\n",
    "\n",
    "for zipzip in zip(uniq_usernames, count_usernames):\n",
    "#     print(zipzip)\n",
    "    zipped_usernames_freq.append(zipzip)\n",
    "\n",
    "# this sorts the counts as strings (eg '9' > '13')\n",
    "# as numpy makes their arrays homogeneous\n",
    "# print(np.sort(np.asarray((uniq_usernames, count_usernames))).T)\n",
    "# # also it's wrong???\n",
    "\n",
    "tuple_freqs_usernames = sorted(zipped_usernames_freq, key=lambda zipzip: zipzip[-1], reverse=True)\n",
    "\n",
    "print(\"The top 10 usernames I've mentioned are:\")\n",
    "for (user, count) in tuple_freqs_usernames[:10]:\n",
    "    print(\" {user}: {count}\".format(user=user, count=count))\n",
    "    \n",
    "print(\"There were {count} usernames I only mentioned once!\".format(\n",
    "    count=len(list(filter(lambda x: x[-1] ==1, zipped_usernames_freq)))\n",
    "))\n"
   ]
  },
  {
   "cell_type": "code",
   "execution_count": 9,
   "metadata": {},
   "outputs": [
    {
     "data": {
      "image/png": "[encoded data removed]",
      "text/plain": [
       "<Figure size 432x288 with 1 Axes>"
      ]
     },
     "metadata": {},
     "output_type": "display_data"
    }
   ],
   "source": [
    "\"\"\"Make a histogram with just the top 100 usernames!\"\"\"\n",
    "\n",
    "import matplotlib.pyplot as plt\n",
    "\n",
    "# use this section for limiting numbers for performance\n",
    "usernames_subset, top_counts = zip(*tuple_freqs_usernames[:25])\n",
    "uniq_usernames = set(usernames_subset)\n",
    "\n",
    "fig, ax = plt.subplots(1, 1)\n",
    "n, bins, patches = ax.hist(usernames_subset, bins=len(uniq_usernames), weights=top_counts, stacked=True)\n",
    "\n",
    "plt.xlabel(\"Usernames\")\n",
    "plt.ylabel(\"Tweets\")\n",
    "plt.title(\"Histogram of tweets mentioning usernames by {username}\".format(\n",
    "    username=TWEETS_USERNAME))\n",
    "# locator = mdates.AutoDateLocator()\n",
    "# ax.xaxis.set_major_locator(locator)\n",
    "# ax.xaxis.set_major_formatter(mdates.AutoDateFormatter(locator))\n",
    "plt.xticks(usernames_subset, label=None, rotation='vertical')\n",
    "plt.axis(\"tight\")\n",
    "plt.set_cmap(\"ocean\")\n",
    "\n",
    "plt.show()"
   ]
  },
  {
   "cell_type": "markdown",
   "metadata": {
    "slideshow": {
     "slide_type": "slide"
    }
   },
   "source": [
    "## Output 3: Sentiment analysis!\n",
    "\n",
    "**TODO**"
   ]
  },
  {
   "cell_type": "markdown",
   "metadata": {},
   "source": [
    "## Notes/help messages"
   ]
  },
  {
   "cell_type": "code",
   "execution_count": 10,
   "metadata": {},
   "outputs": [
    {
     "name": "stdout",
     "output_type": "stream",
     "text": [
      "Help on built-in function sorted in module builtins:\n",
      "\n",
      "sorted(iterable, /, *, key=None, reverse=False)\n",
      "    Return a new list containing all items from the iterable in ascending order.\n",
      "    \n",
      "    A custom key function can be supplied to customize the sort order, and the\n",
      "    reverse flag can be set to request the result in descending order.\n",
      "\n"
     ]
    }
   ],
   "source": [
    "# all the help messages i needed\n",
    "# import datetime\n",
    "# help(datetime.datetime.strptime)\n",
    "# import time\n",
    "# help(time.strptime)\n",
    "# import matplotlib\n",
    "# help(matplotlib)\n",
    "# import datetime\n",
    "# help(datetime.datetime)\n",
    "help(sorted)"
   ]
  }
 ],
 "metadata": {
  "celltoolbar": "Slideshow",
  "kernelspec": {
   "display_name": "Python 3",
   "language": "python",
   "name": "python3"
  },
  "language_info": {
   "codemirror_mode": {
    "name": "ipython",
    "version": 3
   },
   "file_extension": ".py",
   "mimetype": "text/x-python",
   "name": "python",
   "nbconvert_exporter": "python",
   "pygments_lexer": "ipython3",
   "version": "3.6.5"
  }
 },
 "nbformat": 4,
 "nbformat_minor": 2
}
